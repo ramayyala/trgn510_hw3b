{
 "cells": [
  {
   "cell_type": "code",
   "execution_count": 7,
   "metadata": {},
   "outputs": [],
   "source": [
    "import sys \n",
    "import re\n",
    "import csv\n",
    "ens2gene={}\n",
    "## First build dictionary \n",
    "with open (\"Homo_sapiens.GRCh37.75.gtf\", 'r') as file:\n",
    "    for line in file:\n",
    "        matches=re.findall('.*gene_id \"(.*?)\".*gene_name \"(.*?)\";',line)\n",
    "        if matches:\n",
    "            ens2gene[matches[0][0]]=matches[0][1]\n",
    "        \n"
   ]
  },
  {
   "cell_type": "code",
   "execution_count": null,
   "metadata": {},
   "outputs": [],
   "source": [
    "with open(\"expression_results.csv\") as csv_file: \n",
    "    csv_reader=csv.reader(csv_file, delimiter=',')\n",
    "    for row in csv_reader:\n",
    "        print(row)\n",
    "        #if row[0] in ens2gene:\n",
    "            #row[0]=ens2gene[row[0]]\n",
    "            #print(row)"
   ]
  },
  {
   "cell_type": "code",
   "execution_count": 52,
   "metadata": {},
   "outputs": [
    {
     "name": "stdout",
     "output_type": "stream",
     "text": [
      "                    gene_id             gene_type                  logFC  \\\n",
      "0      14541         ANP32C  processed_pseudogene      0.449817926522256   \n",
      "1      14546      RNU6-668P                 snRNA      0.380944080200912   \n",
      "2      14099  RP11-214O14.1  processed_pseudogene      0.404279512682501   \n",
      "3      14034          QRFPR        protein_coding      0.488619750044255   \n",
      "4       9189     AC019068.2             antisense      0.332324200837872   \n",
      "...      ...            ...                   ...                    ...   \n",
      "17544   9035        HMGB1P3  processed_pseudogene    0.00286230814202131   \n",
      "17545  14865      RNA5SP175       rRNA_pseudogene   -0.00800768173068485   \n",
      "17546  16659       CDC42SE2        protein_coding  -0.000312667854086051   \n",
      "17547   9424          CIDEC        protein_coding   0.000624908997928933   \n",
      "17548   3935  RP11-357J22.1  processed_pseudogene  -0.000280670315320949   \n",
      "\n",
      "                  AveExpr  \n",
      "0      0.0739725408539951  \n",
      "1       0.169836608364135  \n",
      "2        1.45653165012597  \n",
      "3       -1.74530314614119  \n",
      "4        1.16260316392312  \n",
      "...                   ...  \n",
      "17544    4.81874554132633  \n",
      "17545    5.43652436619825  \n",
      "17546    5.76603118836156  \n",
      "17547    5.34358258545568  \n",
      "17548    4.50670451018074  \n",
      "\n",
      "[17549 rows x 5 columns]\n"
     ]
    }
   ],
   "source": [
    "##Replacing ENSEMBLEID with HUGOID\n",
    "import pandas as pd\n",
    "list=[]\n",
    "with open(\"unit/expres.anal.csv\",'r') as csv_file: \n",
    "    csv_reader=csv.reader(csv_file, delimiter=',')\n",
    "    reader = csv.DictReader(csv_file)\n",
    "    header = reader.fieldnames\n",
    "    for row in csv_reader:\n",
    "        ENSID=row[1].split('.')[0]\n",
    "        row[1]=ENSID\n",
    "        if row[1] in ens2gene:\n",
    "            row[1]=ens2gene[row[1]]\n",
    "            list.append(row)\n",
    "            #print(row)\n",
    "df = pd.DataFrame(list,columns=fieldnames)\n",
    "print(df)"
   ]
  },
  {
   "cell_type": "code",
   "execution_count": 44,
   "metadata": {},
   "outputs": [],
   "source": [
    "df = pd.DataFrame(list,columns=fieldnames)\n",
    "df.to_csv('output.csv',index=False)\n",
    "df"
   ]
  },
  {
   "cell_type": "code",
   "execution_count": null,
   "metadata": {},
   "outputs": [],
   "source": [
    "             "
   ]
  },
  {
   "cell_type": "code",
   "execution_count": null,
   "metadata": {},
   "outputs": [],
   "source": []
  }
 ],
 "metadata": {
  "kernelspec": {
   "display_name": "Python 3",
   "language": "python",
   "name": "python3"
  },
  "language_info": {
   "codemirror_mode": {
    "name": "ipython",
    "version": 3
   },
   "file_extension": ".py",
   "mimetype": "text/x-python",
   "name": "python",
   "nbconvert_exporter": "python",
   "pygments_lexer": "ipython3",
   "version": "3.8.5"
  }
 },
 "nbformat": 4,
 "nbformat_minor": 5
}
