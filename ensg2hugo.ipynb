{
 "cells": [
  {
   "cell_type": "code",
   "execution_count": null,
   "id": "23e18813-df8e-4714-80ed-c1aace04644e",
   "metadata": {},
   "outputs": [],
   "source": [
    "import sys \n",
    "import re\n",
    "import csv\n",
    "ens2gene={}\n",
    "## First build dictionary \n",
    "with open (\"Homo_sapiens.GRCh37.75.gtf\", 'r') as file:\n",
    "    for line in file:\n",
    "        matches=re.findall('.*gene_id \"(.*?)\".*gene_name \"(.*?)\";',line)\n",
    "        if matches:\n",
    "            ens2gene[matches[0][0]]=matches[0][1]\n",
    "\n",
    "with open(\"rna/expression_results.csv\") as csv_file: \n",
    "    csv_reader=csv.reader(csv_file, delimiter=',')\n",
    "    line_count=0\n",
    "    for row in csv_reader:\n",
    "        if row[0] in ens2gene:\n",
    "            row[0]=ens2gene[row[0]]\n",
    "            print(row)\n"
   ]
  }
 ],
 "metadata": {
  "kernelspec": {
   "display_name": "Python 3",
   "language": "python",
   "name": "python3"
  },
  "language_info": {
   "codemirror_mode": {
    "name": "ipython",
    "version": 3
   },
   "file_extension": ".py",
   "mimetype": "text/x-python",
   "name": "python",
   "nbconvert_exporter": "python",
   "pygments_lexer": "ipython3",
   "version": "3.8.8"
  }
 },
 "nbformat": 4,
 "nbformat_minor": 5
}
