{
 "cells": [
  {
   "cell_type": "code",
   "execution_count": 1,
   "id": "7904d326-1266-41ea-9e9f-cf9cc00c02b0",
   "metadata": {},
   "outputs": [
    {
     "name": "stdout",
     "output_type": "stream",
     "text": [
      "Collecting phonenumbers\n",
      "  Downloading phonenumbers-8.12.31-py2.py3-none-any.whl (2.6 MB)\n",
      "Installing collected packages: phonenumbers\n",
      "Successfully installed phonenumbers-8.12.31\n"
     ]
    }
   ],
   "source": [
    "!pip install phonenumbers"
   ]
  },
  {
   "cell_type": "code",
   "execution_count": 114,
   "id": "07e3fa2e-2189-4023-b6bd-dc4c828dc873",
   "metadata": {},
   "outputs": [],
   "source": [
    "import phonenumbers as pn\n",
    "import pandas as pd\n",
    "import re"
   ]
  },
  {
   "cell_type": "code",
   "execution_count": 121,
   "id": "0c873e60-9315-4707-b43e-bc7c25657a88",
   "metadata": {},
   "outputs": [],
   "source": [
    "text_file = open(\"example1.txt\", \"r\")\n",
    "text = text_file.read()"
   ]
  },
  {
   "cell_type": "code",
   "execution_count": 122,
   "id": "52bd63c5-0e2a-473e-9969-3e57886987b5",
   "metadata": {},
   "outputs": [
    {
     "data": {
      "text/plain": [
       "'My phone number in England was +44-20-7183-8750, and now that I moved to Arizona, it is 480-448-0157.\\n'"
      ]
     },
     "execution_count": 122,
     "metadata": {},
     "output_type": "execute_result"
    }
   ],
   "source": [
    "#text=\"My phone number in England was +44-20-7183-8750, and now that I moved to Arizona, it is 480-448-0157.\"\n",
    "text"
   ]
  },
  {
   "cell_type": "code",
   "execution_count": 123,
   "id": "1c3df018-904d-418d-9cf7-dcf31bdd8397",
   "metadata": {},
   "outputs": [
    {
     "name": "stdout",
     "output_type": "stream",
     "text": [
      "+44 (20) 71838750\n",
      "(480)4480157\n"
     ]
    }
   ],
   "source": [
    "matches=[]\n",
    "for match in pn.PhoneNumberMatcher(text, \"US\"):\n",
    "    matches.append(match)\n",
    "for numbers in matches:\n",
    "    if pn.format_number(numbers.number, pn.PhoneNumberFormat.E164)[0:2]=='+1': ##number is national\n",
    "        test=re.split(' |-',pn.format_number(matches[1].number, pn.PhoneNumberFormat.NATIONAL))\n",
    "        print(test[0]+test[1]+test[2])\n",
    "    else: ##number is international\n",
    "        test=pn.format_number(numbers.number, pn.PhoneNumberFormat.INTERNATIONAL).split(' ')\n",
    "        print(test[0]+\" (\" + test[1]+\") \"+test[2]+test[3] )\n"
   ]
  },
  {
   "cell_type": "code",
   "execution_count": 84,
   "id": "530c1f51-e3bb-40c4-8cf4-4e23222cf78e",
   "metadata": {},
   "outputs": [
    {
     "name": "stdout",
     "output_type": "stream",
     "text": [
      "PhoneNumberMatch [31,47) +44-20-7183-8750\n",
      "PhoneNumberMatch [88,100) 480-448-0157\n"
     ]
    }
   ],
   "source": [
    "matches=[]\n",
    "for match in pn.PhoneNumberMatcher(text, \"US\"):\n",
    "    matches.append(match)\n",
    "    print(match)"
   ]
  },
  {
   "cell_type": "code",
   "execution_count": 85,
   "id": "9d631c4c-2ca8-41a4-ab60-67806b300852",
   "metadata": {},
   "outputs": [
    {
     "data": {
      "text/plain": [
       "[PhoneNumberMatch(start=31, raw_string='+44-20-7183-8750', numobj=PhoneNumber(country_code=44, national_number=2071838750, extension=None, italian_leading_zero=None, number_of_leading_zeros=None, country_code_source=0, preferred_domestic_carrier_code=None)),\n",
       " PhoneNumberMatch(start=88, raw_string='480-448-0157', numobj=PhoneNumber(country_code=1, national_number=4804480157, extension=None, italian_leading_zero=None, number_of_leading_zeros=None, country_code_source=0, preferred_domestic_carrier_code=None))]"
      ]
     },
     "execution_count": 85,
     "metadata": {},
     "output_type": "execute_result"
    }
   ],
   "source": [
    "matches"
   ]
  },
  {
   "cell_type": "code",
   "execution_count": 119,
   "id": "6c6ad095-3eb8-410e-8dfe-be6bfe776272",
   "metadata": {},
   "outputs": [
    {
     "name": "stdout",
     "output_type": "stream",
     "text": [
      "(480)4480157\n"
     ]
    }
   ],
   "source": [
    "test=re.split(' |-',pn.format_number(matches[1].number, pn.PhoneNumberFormat.NATIONAL))\n",
    "print(test[0]+test[1]+test[2])"
   ]
  },
  {
   "cell_type": "code",
   "execution_count": 120,
   "id": "3e8ca7d0-8354-46de-849d-9de9706f5b7d",
   "metadata": {},
   "outputs": [
    {
     "name": "stdout",
     "output_type": "stream",
     "text": [
      "+44 (20) 71838750\n",
      "(480)4480157\n"
     ]
    }
   ],
   "source": [
    "for numbers in matches:\n",
    "    if pn.format_number(numbers.number, pn.PhoneNumberFormat.E164)[0:2]=='+1': ##number is national\n",
    "        test=re.split(' |-',pn.format_number(matches[1].number, pn.PhoneNumberFormat.NATIONAL))\n",
    "        print(test[0]+test[1]+test[2])\n",
    "    else: ##number is international\n",
    "        test=pn.format_number(numbers.number, pn.PhoneNumberFormat.INTERNATIONAL).split(' ')\n",
    "        print(test[0]+\" (\" + test[1]+\") \"+test[2]+test[3] )\n",
    "    "
   ]
  },
  {
   "cell_type": "code",
   "execution_count": null,
   "id": "5c9d8063-62b0-4caf-b313-4b0962a76168",
   "metadata": {},
   "outputs": [],
   "source": []
  }
 ],
 "metadata": {
  "kernelspec": {
   "display_name": "Python 3",
   "language": "python",
   "name": "python3"
  },
  "language_info": {
   "codemirror_mode": {
    "name": "ipython",
    "version": 3
   },
   "file_extension": ".py",
   "mimetype": "text/x-python",
   "name": "python",
   "nbconvert_exporter": "python",
   "pygments_lexer": "ipython3",
   "version": "3.8.8"
  }
 },
 "nbformat": 4,
 "nbformat_minor": 5
}
